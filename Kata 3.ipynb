{
 "cells": [
  {
   "cell_type": "code",
   "execution_count": 25,
   "metadata": {},
   "outputs": [
    {
     "name": "stdout",
     "output_type": "stream",
     "text": [
      "Peligro, se acerca rapidamente un asteroide\n"
     ]
    }
   ],
   "source": [
    "asteroide = 49\n",
    "if asteroide > 25:\n",
    "    print('Peligro! Se acerca rapidamente un asteroide')\n",
    "else:\n",
    "    print('Sé feliz, todo está bien')"
   ]
  },
  {
   "cell_type": "code",
   "execution_count": 31,
   "metadata": {},
   "outputs": [
    {
     "name": "stdout",
     "output_type": "stream",
     "text": [
      "No hubo luz de asteroide :(\n"
     ]
    }
   ],
   "source": [
    "asteroide = 19\n",
    "if asteroide > 20:\n",
    "    print ('Mira! hay una luz en el cielo')\n",
    "elif asteroide == 20:\n",
    "    print ('Mira! hay una luz en el cielo')\n",
    "else: \n",
    "    print ('No hubo luz de asteroide :(')"
   ]
  },
  {
   "cell_type": "code",
   "execution_count": 45,
   "metadata": {},
   "outputs": [
    {
     "name": "stdout",
     "output_type": "stream",
     "text": [
      "Peligro! Se acerca rapidamente un asteroide\n"
     ]
    }
   ],
   "source": [
    "velocidad_asteroide = 100\n",
    "tamano_asteroide = 30\n",
    "if velocidad_asteroide > 25 and tamano_asteroide > 25:\n",
    "    print('Peligro! Se acerca rapidamente un asteroide')\n",
    "elif velocidad_asteroide >= 20:\n",
    "    print('Mira! hay una luz en el cielo')\n",
    "elif tamano_asteroide < 25:\n",
    "    print('No hubo luz de asteroide :(')\n",
    "else:\n",
    "    print('No hubo luz de asteroide :(')"
   ]
  }
 ],
 "metadata": {
  "interpreter": {
   "hash": "d2fae98f5d026d835639da96495d8f148b8daf4943c8f20f4f91110083c2fa76"
  },
  "kernelspec": {
   "display_name": "Python 3.10.2 64-bit",
   "language": "python",
   "name": "python3"
  },
  "language_info": {
   "codemirror_mode": {
    "name": "ipython",
    "version": 3
   },
   "file_extension": ".py",
   "mimetype": "text/x-python",
   "name": "python",
   "nbconvert_exporter": "python",
   "pygments_lexer": "ipython3",
   "version": "3.10.2"
  },
  "orig_nbformat": 4
 },
 "nbformat": 4,
 "nbformat_minor": 2
}
